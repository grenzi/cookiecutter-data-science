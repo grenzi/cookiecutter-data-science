{
 "cells": [
  {
   "cell_type": "markdown",
   "metadata": {
    "toc": true
   },
   "source": [
    "<h1>Table of Contents<span class=\"tocSkip\"></span></h1>\n",
    "<div class=\"toc\"><ul class=\"toc-item\"><li><span><a href=\"#Acquire-Data\" data-toc-modified-id=\"Acquire-Data-1\"><span class=\"toc-item-num\">1&nbsp;&nbsp;</span>Acquire Data</a></span></li><li><span><a href=\"#Profile-Data\" data-toc-modified-id=\"Profile-Data-2\"><span class=\"toc-item-num\">2&nbsp;&nbsp;</span>Profile Data</a></span></li></ul></div>"
   ]
  },
  {
   "cell_type": "markdown",
   "metadata": {},
   "source": [
    "## Acquire Data"
   ]
  },
  {
   "cell_type": "code",
   "execution_count": null,
   "metadata": {
    "ExecuteTime": {
     "end_time": "2018-07-26T13:54:02.588480Z",
     "start_time": "2018-07-26T13:54:01.113289Z"
    },
    "collapsed": true
   },
   "outputs": [],
   "source": [
    "import pandas as pd\n",
    "import pyodbc\n",
    "#run this: pip install git+https://github.com/pandas-profiling/pandas-profiling.git\n",
    "import pandas_profiling\n",
    "import re\n",
    "\n",
    "#goes //servername//dbname?driver=\n",
    "connection_string = \"mssql+pyodbc://localhost/gagetemp?driver=SQL+Server+Native+Client+11.0\"\n",
    "table_name = '[ns].[Netsuite Revenue Forecast Report With SfIds]'\n",
    "table_date_columns = ['Revenue Element: Start Date','Revenue Element: End Date', 'Date']\n",
    "output_file = \"e:\\\\temp\\\\Profile\" + re.sub(r'\\W+', '', table_name) + '.html'"
   ]
  },
  {
   "cell_type": "code",
   "execution_count": null,
   "metadata": {
    "ExecuteTime": {
     "end_time": "2018-07-26T13:54:03.363561Z",
     "start_time": "2018-07-26T13:54:02.589481Z"
    }
   },
   "outputs": [],
   "source": [
    "df = pd.read_sql_query(\n",
    "    sql = \"SELECT * FROM \" + table_name + \" where  Account not like '%606%'\",\n",
    "    con = connection_string,\n",
    "    coerce_float=True,\n",
    "    parse_dates = table_date_columns\n",
    ")\n",
    "df.head().T"
   ]
  },
  {
   "cell_type": "markdown",
   "metadata": {},
   "source": [
    "## Profile Data"
   ]
  },
  {
   "cell_type": "code",
   "execution_count": null,
   "metadata": {
    "ExecuteTime": {
     "end_time": "2018-07-26T13:54:08.700933Z",
     "start_time": "2018-07-26T13:54:03.454552Z"
    }
   },
   "outputs": [],
   "source": [
    "profile = pandas_profiling.ProfileReport(df)\n",
    "res = profile.to_file(outputfile=output_file)\n",
    "profile"
   ]
  },
  {
   "cell_type": "code",
   "execution_count": null,
   "metadata": {
    "collapsed": true
   },
   "outputs": [],
   "source": []
  }
 ],
 "metadata": {
  "kernelspec": {
   "display_name": "Python 3",
   "language": "python",
   "name": "python3"
  },
  "language_info": {
   "codemirror_mode": {
    "name": "ipython",
    "version": 3
   },
   "file_extension": ".py",
   "mimetype": "text/x-python",
   "name": "python",
   "nbconvert_exporter": "python",
   "pygments_lexer": "ipython3",
   "version": "3.5.3"
  },
  "toc": {
   "base_numbering": 1,
   "nav_menu": {},
   "number_sections": true,
   "sideBar": true,
   "skip_h1_title": false,
   "title_cell": "Table of Contents",
   "title_sidebar": "Contents",
   "toc_cell": true,
   "toc_position": {},
   "toc_section_display": true,
   "toc_window_display": false
  }
 },
 "nbformat": 4,
 "nbformat_minor": 2
}
