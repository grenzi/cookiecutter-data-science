{
 "cells": [
  {
   "cell_type": "markdown",
   "metadata": {},
   "source": [
    "# Setup"
   ]
  },
  {
   "cell_type": "code",
   "execution_count": null,
   "metadata": {},
   "outputs": [],
   "source": [
    "###########################################################################\n",
    "# environment settings\n",
    "###########################################################################\n",
    "import os\n",
    "from dotenv import load_dotenv, find_dotenv\n",
    "load_dotenv(find_dotenv())\n",
    "\n",
    "###########################################################################\n",
    "# pandas taming\n",
    "###########################################################################\n",
    "import pandas as pd\n",
    "import numpy as np\n",
    "pd.set_option('max_columns', 50)\n",
    "pd.set_option('precision', 2)\n",
    "from pydataset import data\n",
    "\n",
    "###########################################################################\n",
    "# graphing\n",
    "###########################################################################\n",
    "import matplotlib\n",
    "import matplotlib.pyplot as plt\n",
    "%matplotlib inline\n",
    "import seaborn as sns\n",
    "sns.set(color_codes=True)\n",
    "\n",
    "from ipywidgets import interact\n",
    "import numpy as np\n",
    "\n",
    "from bokeh.io import push_notebook, show, output_notebook\n",
    "from bokeh.plotting import figure\n",
    "output_notebook()\n",
    "\n",
    "###########################################################################\n",
    "# misc notebook setup stuff\n",
    "###########################################################################\n",
    "#from https://www.dataquest.io/blog/jupyter-notebook-tips-tricks-shortcuts/\n",
    "from IPython.core.interactiveshell import InteractiveShell\n",
    "InteractiveShell.ast_node_interactivity = \"all\"\n",
    "# %connect_info\n",
    "\n",
    "###########################################################################\n",
    "# sql stuff\n",
    "###########################################################################\n",
    "#see https://github.com/catherinedevlin/ipython-sql\n",
    "import pyodbc\n",
    "from sql import *\n",
    "%load_ext sql\n",
    "%sql mssql+pyodbc://localhost/dddmdb2?trusted_connection=yes&driver=ODBC+Driver+11+for+SQL+Server\n",
    "\n",
    "###########################################################################\n",
    "# salesforce stuff\n",
    "###########################################################################\n",
    "#see https://github.com/simple-salesforce/simple-salesforce\n",
    "#see https://github.com/cghall/salesforce-reporting\n",
    "USERNAME=os.environ.get(\"SALESFORCE_USER\")\n",
    "PASSWORD=os.environ.get(\"SALESFORCE_PASS\")\n",
    "TOKEN=os.environ.get(\"SALESFORCE_TOKEN\")\n",
    "\n",
    "from simple_salesforce import Salesforce\n",
    "import salesforce_reporting\n",
    "salesforce = Salesforce(username=USERNAME, password=PASSWORD, security_token=TOKEN)\n",
    "salesforce_reports = salesforce_reporting.Connection(USERNAME, PASSWORD, TOKEN)\n",
    "\n",
    "###########################################################################\n",
    "# local codebits\n",
    "###########################################################################\n",
    "from src import pandas\n",
    "from src import sql"
   ]
  },
  {
   "cell_type": "markdown",
   "metadata": {},
   "source": [
    "# heading"
   ]
  },
  {
   "cell_type": "code",
   "execution_count": null,
   "metadata": {},
   "outputs": [],
   "source": []
  }
 ],
 "metadata": {
  "kernelspec": {
   "display_name": "Python 3",
   "language": "python",
   "name": "python3"
  },
  "language_info": {
   "codemirror_mode": {
    "name": "ipython",
    "version": 3
   },
   "file_extension": ".py",
   "mimetype": "text/x-python",
   "name": "python",
   "nbconvert_exporter": "python",
   "pygments_lexer": "ipython3",
   "version": "3.5.3"
  }
 },
 "nbformat": 4,
 "nbformat_minor": 2
}
